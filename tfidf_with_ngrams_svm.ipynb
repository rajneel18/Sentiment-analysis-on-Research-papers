{
 "cells": [
  {
   "cell_type": "code",
   "execution_count": 1,
   "metadata": {},
   "outputs": [],
   "source": [
    "import pandas as pd\n",
    "from sklearn.svm import SVC\n",
    "from sklearn.feature_extraction.text import TfidfVectorizer\n",
    "from nltk.stem import WordNetLemmatizer \n",
    "from sklearn.metrics import accuracy_score\n",
    "\n"
   ]
  },
  {
   "cell_type": "markdown",
   "metadata": {},
   "source": [
    "## Read the data\n",
    "\n",
    "Loading data into dataframe from 'citation_sentiment_corpus.txt'"
   ]
  },
  {
   "cell_type": "code",
   "execution_count": 2,
   "metadata": {},
   "outputs": [
    {
     "data": {
      "text/html": [
       "<div>\n",
       "<style scoped>\n",
       "    .dataframe tbody tr th:only-of-type {\n",
       "        vertical-align: middle;\n",
       "    }\n",
       "\n",
       "    .dataframe tbody tr th {\n",
       "        vertical-align: top;\n",
       "    }\n",
       "\n",
       "    .dataframe thead th {\n",
       "        text-align: right;\n",
       "    }\n",
       "</style>\n",
       "<table border=\"1\" class=\"dataframe\">\n",
       "  <thead>\n",
       "    <tr style=\"text-align: right;\">\n",
       "      <th></th>\n",
       "      <th>Source_Paper_ID</th>\n",
       "      <th>Target_Paper_ID</th>\n",
       "      <th>Sentiment</th>\n",
       "      <th>Citation_Text</th>\n",
       "    </tr>\n",
       "  </thead>\n",
       "  <tbody>\n",
       "    <tr>\n",
       "      <th>8731</th>\n",
       "      <td>W98-1118</td>\n",
       "      <td>W96-0213</td>\n",
       "      <td>p</td>\n",
       "      <td>He has achieved state-of-the art results by ap...</td>\n",
       "    </tr>\n",
       "    <tr>\n",
       "      <th>8732</th>\n",
       "      <td>W99-0606</td>\n",
       "      <td>W96-0213</td>\n",
       "      <td>o</td>\n",
       "      <td>B = (Brill and Wu, 1998); M = (Magerman, 1995)...</td>\n",
       "    </tr>\n",
       "    <tr>\n",
       "      <th>8733</th>\n",
       "      <td>W99-0607</td>\n",
       "      <td>W96-0213</td>\n",
       "      <td>o</td>\n",
       "      <td>The model we use is similar to that of (Ratnap...</td>\n",
       "    </tr>\n",
       "    <tr>\n",
       "      <th>8734</th>\n",
       "      <td>W99-0607</td>\n",
       "      <td>W96-0213</td>\n",
       "      <td>p</td>\n",
       "      <td>Our model exploits the same kind of tag-n-gram...</td>\n",
       "    </tr>\n",
       "    <tr>\n",
       "      <th>8735</th>\n",
       "      <td>W99-0608</td>\n",
       "      <td>W96-0213</td>\n",
       "      <td>o</td>\n",
       "      <td>In that table, TBL stands for Brill's transfor...</td>\n",
       "    </tr>\n",
       "  </tbody>\n",
       "</table>\n",
       "</div>"
      ],
      "text/plain": [
       "     Source_Paper_ID Target_Paper_ID Sentiment  \\\n",
       "8731        W98-1118        W96-0213         p   \n",
       "8732        W99-0606        W96-0213         o   \n",
       "8733        W99-0607        W96-0213         o   \n",
       "8734        W99-0607        W96-0213         p   \n",
       "8735        W99-0608        W96-0213         o   \n",
       "\n",
       "                                          Citation_Text  \n",
       "8731  He has achieved state-of-the art results by ap...  \n",
       "8732  B = (Brill and Wu, 1998); M = (Magerman, 1995)...  \n",
       "8733  The model we use is similar to that of (Ratnap...  \n",
       "8734  Our model exploits the same kind of tag-n-gram...  \n",
       "8735  In that table, TBL stands for Brill's transfor...  "
      ]
     },
     "execution_count": 2,
     "metadata": {},
     "output_type": "execute_result"
    }
   ],
   "source": [
    "data = pd.read_csv('citation_sentiment_corpus.txt', sep=\"\\t\", header=None)\n",
    "data.columns = [\"Source_Paper_ID\", \"Target_Paper_ID\", \"Sentiment\", \"Citation_Text\"]\n",
    "data.tail()"
   ]
  },
  {
   "cell_type": "markdown",
   "metadata": {},
   "source": [
    "### Removing duplicate data"
   ]
  },
  {
   "cell_type": "code",
   "execution_count": 3,
   "metadata": {},
   "outputs": [
    {
     "name": "stdout",
     "output_type": "stream",
     "text": [
      "Original: (8736, 4)\n",
      "Drop Dupicates: (8734, 4)\n"
     ]
    }
   ],
   "source": [
    "print (\"Original:\", data.shape)\n",
    "data = data.drop_duplicates()\n",
    "data = data.reset_index(drop=True)\n",
    "print (\"Drop Dupicates:\", data.shape)"
   ]
  },
  {
   "cell_type": "markdown",
   "metadata": {},
   "source": [
    "### Adding lemmatized citation text to data frame"
   ]
  },
  {
   "cell_type": "markdown",
   "metadata": {},
   "source": [
    "### Train and test split on citation text"
   ]
  },
  {
   "cell_type": "code",
   "execution_count": 4,
   "metadata": {},
   "outputs": [],
   "source": [
    "corpus = data['Citation_Text']\n",
    "num_training = 7000\n",
    "train_X = corpus[:num_training]\n",
    "test_X = corpus[num_training:]\n",
    "train_Y = data['Sentiment'][:num_training]\n",
    "test_Y=data['Sentiment'][num_training:]"
   ]
  },
  {
   "cell_type": "code",
   "execution_count": 5,
   "metadata": {},
   "outputs": [],
   "source": [
    "vectorizer = TfidfVectorizer(ngram_range=(1,3) ,min_df=1, use_idf=True, smooth_idf=True)\n",
    "\n",
    "# Vectorize the training data\n",
    "X_train = vectorizer.fit_transform(train_X)\n",
    "# Vectorize the test data\n",
    "X_test = vectorizer.transform(test_X)\n",
    "svm_C = 1000\n",
    "\n",
    "# Train the SVM, optimized by Stochastic Gradient Descent \n",
    "clf = SVC(probability=True, verbose=False, class_weight=None, kernel=\"rbf\")\n",
    "\n",
    "clf.fit(X_train, train_Y) \n",
    "\n",
    "# Make predictions\n",
    "pred = clf.predict(X_test)\n"
   ]
  },
  {
   "cell_type": "code",
   "execution_count": 6,
   "metadata": {},
   "outputs": [
    {
     "name": "stdout",
     "output_type": "stream",
     "text": [
      "0.8592848904267589\n"
     ]
    }
   ],
   "source": [
    "print (accuracy_score(test_Y, pred))\n"
   ]
  },
  {
   "cell_type": "code",
   "execution_count": 7,
   "metadata": {},
   "outputs": [],
   "source": [
    "from sklearn import metrics\n",
    "\n",
    "matrix = metrics.confusion_matrix(test_Y, pred)"
   ]
  },
  {
   "cell_type": "code",
   "execution_count": 8,
   "metadata": {},
   "outputs": [],
   "source": [
    "import numpy as np\n",
    "\n",
    "\n",
    "def plot_confusion_matrix(cm,\n",
    "                          target_names,\n",
    "                          title='Confusion matrix',\n",
    "                          cmap=None,\n",
    "                          normalize=True):\n",
    "\n",
    "    import matplotlib.pyplot as plt\n",
    "    import numpy as np\n",
    "    import itertools\n",
    "    accuracy = np.trace(cm) / np.sum(cm).astype('float')\n",
    "    misclass = 1 - accuracy\n",
    "\n",
    "    if cmap is None:\n",
    "        cmap = plt.get_cmap('Blues')\n",
    "\n",
    "    plt.figure(figsize=(8, 6))\n",
    "    plt.imshow(cm, interpolation='nearest', cmap=cmap)\n",
    "    plt.title(title)\n",
    "    plt.colorbar()\n",
    "\n",
    "    if target_names is not None:\n",
    "        tick_marks = np.arange(len(target_names))\n",
    "        plt.xticks(tick_marks, target_names, rotation=45)\n",
    "        plt.yticks(tick_marks, target_names)\n",
    "\n",
    "    if normalize:\n",
    "        cm = cm.astype('float') / cm.sum(axis=1)[:, np.newaxis]\n",
    "\n",
    "\n",
    "    thresh = cm.max() / 1.5 if normalize else cm.max() / 2\n",
    "    for i, j in itertools.product(range(cm.shape[0]), range(cm.shape[1])):\n",
    "        if normalize:\n",
    "            plt.text(j, i, \"{:0.4f}\".format(cm[i, j]),\n",
    "                     horizontalalignment=\"center\",\n",
    "                     color=\"white\" if cm[i, j] > thresh else \"black\")\n",
    "        else:\n",
    "            plt.text(j, i, \"{:,}\".format(cm[i, j]),\n",
    "                     horizontalalignment=\"center\",\n",
    "                     color=\"white\" if cm[i, j] > thresh else \"black\")\n",
    "\n",
    "\n",
    "    plt.tight_layout()\n",
    "    plt.ylabel('True label')\n",
    "    plt.xlabel('Predicted label\\naccuracy={:0.4f}; misclass={:0.4f}'.format(accuracy, misclass))\n",
    "    plt.show()"
   ]
  },
  {
   "cell_type": "code",
   "execution_count": 9,
   "metadata": {},
   "outputs": [
    {
     "data": {
      "image/png": "[encoded data removed]",
      "text/plain": [
       "<Figure size 800x600 with 2 Axes>"
      ]
     },
     "metadata": {},
     "output_type": "display_data"
    }
   ],
   "source": [
    "target_names = [\"Negative(n)\", \"Neutral(o)\", \"Positive(p)\"]\n",
    "plot_confusion_matrix(matrix,\n",
    "                          target_names,\n",
    "                          title='Confusion matrix for tfidf',\n",
    "                          cmap=None,\n",
    "                          normalize=True)"
   ]
  },
  {
   "cell_type": "code",
   "execution_count": 10,
   "metadata": {},
   "outputs": [
    {
     "name": "stdout",
     "output_type": "stream",
     "text": [
      "SVM model and vectorizer saved successfully!\n"
     ]
    }
   ],
   "source": [
    "import joblib\n",
    "\n",
    "# Assuming you have already trained your SVM model and vectorizer as shown before\n",
    "\n",
    "# Save the SVM model and vectorizer\n",
    "joblib.dump(clf, 'svm_model.pkl')          # Save the SVM model\n",
    "joblib.dump(vectorizer, 'tfidf_vectorizer.pkl')  # Save the TF-IDF vectorizer\n",
    "print(\"SVM model and vectorizer saved successfully!\")\n"
   ]
  },
  {
   "cell_type": "code",
   "execution_count": 11,
   "metadata": {},
   "outputs": [
    {
     "name": "stdout",
     "output_type": "stream",
     "text": [
      "Predictions for new samples: ['o' 'o' 'o']\n"
     ]
    }
   ],
   "source": [
    "import joblib\n",
    "\n",
    "# Load the saved SVM model and vectorizer\n",
    "model = joblib.load('svm_model.pkl')\n",
    "vectorizer = joblib.load('tfidf_vectorizer.pkl')\n",
    "\n",
    "# Function to make predictions\n",
    "def demo_prediction(new_texts):\n",
    "    # Transform the new texts using the loaded vectorizer\n",
    "    new_texts_dtm = vectorizer.transform(new_texts)\n",
    "\n",
    "    # Make predictions\n",
    "    predictions = model.predict(new_texts_dtm)\n",
    "    return predictions\n",
    "\n",
    "# Example usage of demo_prediction\n",
    "new_samples = [\n",
    "    \"This research provides a groundbreaking approach to the problem.\",\n",
    "    \"The results are inconclusive and need further validation.\",\n",
    "    \"This paper does not contribute anything new to the field.\"\n",
    "]\n",
    "\n",
    "predictions = demo_prediction(new_samples)\n",
    "print(\"Predictions for new samples:\", predictions)\n"
   ]
  },
  {
   "cell_type": "code",
   "execution_count": null,
   "metadata": {},
   "outputs": [],
   "source": []
  }
 ],
 "metadata": {
  "kernelspec": {
   "display_name": "Python (deeplearn)",
   "language": "python",
   "name": "deeplearn"
  },
  "language_info": {
   "codemirror_mode": {
    "name": "ipython",
    "version": 3
   },
   "file_extension": ".py",
   "mimetype": "text/x-python",
   "name": "python",
   "nbconvert_exporter": "python",
   "pygments_lexer": "ipython3",
   "version": "3.8.19"
  }
 },
 "nbformat": 4,
 "nbformat_minor": 4
}
